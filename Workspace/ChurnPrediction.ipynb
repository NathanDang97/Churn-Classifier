{
 "cells": [
  {
   "attachments": {
    "COUR_IPO.png": {
     "image/png": "[encoded data removed]"
    }
   },
   "cell_type": "markdown",
   "metadata": {},
   "source": [
    "![COUR_IPO.png](attachment:COUR_IPO.png)"
   ]
  },
  {
   "cell_type": "markdown",
   "metadata": {},
   "source": [
    "# Welcome to the Data Science Coding Challange!\n",
    "\n",
    "Test your skills in a real-world coding challenge. Coding Challenges provide CS & DS Coding Competitions with Prizes and achievement badges!\n",
    "\n",
    "CS & DS learners want to be challenged as a way to evaluate if they’re job ready. So, why not create fun challenges and give winners something truly valuable such as complimentary access to select Data Science courses, or the ability to receive an achievement badge on their Coursera Skills Profile - highlighting their performance to recruiters."
   ]
  },
  {
   "cell_type": "markdown",
   "metadata": {},
   "source": [
    "## Introduction\n",
    "\n",
    "In this challenge, you'll get the opportunity to tackle one of the most industry-relevant maching learning problems with a unique dataset that will put your modeling skills to the test. Subscription services are leveraged by companies across many industries, from fitness to video streaming to retail. One of the primary objectives of companies with subscription services is to decrease churn and ensure that users are retained as subscribers. In order to do this efficiently and systematically, many companies employ machine learning to predict which users are at the highest risk of churn, so that proper interventions can be effectively deployed to the right audience.\n",
    "\n",
    "In this challenge, we will be tackling the churn prediction problem on a very unique and interesting group of subscribers on a video streaming service! \n",
    "\n",
    "Imagine that you are a new data scientist at this video streaming company and you are tasked with building a model that can predict which existing subscribers will continue their subscriptions for another month. We have provided a dataset that is a sample of subscriptions that were initiated in 2021, all snapshotted at a particular date before the subscription was cancelled. Subscription cancellation can happen for a multitude of reasons, including:\n",
    "* the customer completes all content they were interested in, and no longer need the subscription\n",
    "* the customer finds themselves to be too busy and cancels their subscription until a later time\n",
    "* the customer determines that the streaming service is not the best fit for them, so they cancel and look for something better suited\n",
    "\n",
    "Regardless the reason, this video streaming company has a vested interest in understanding the likelihood of each individual customer to churn in their subscription so that resources can be allocated appropriately to support customers. In this challenge, you will use your machine learning toolkit to do just that!"
   ]
  },
  {
   "cell_type": "markdown",
   "metadata": {},
   "source": [
    "## Understanding the Datasets"
   ]
  },
  {
   "cell_type": "markdown",
   "metadata": {},
   "source": [
    "### Train vs. Test\n",
    "In this competition, you’ll gain access to two datasets that are samples of past subscriptions of a video streaming platform that contain information about the customer, the customers streaming preferences, and their activity in the subscription thus far. One dataset is titled `train.csv` and the other is titled `test.csv`.\n",
    "\n",
    "`train.csv` contains 70% of the overall sample (243,787 subscriptions to be exact) and importantly, will reveal whether or not the subscription was continued into the next month (the “ground truth”).\n",
    "\n",
    "The `test.csv` dataset contains the exact same information about the remaining segment of the overall sample (104,480 subscriptions to be exact), but does not disclose the “ground truth” for each subscription. It’s your job to predict this outcome!\n",
    "\n",
    "Using the patterns you find in the `train.csv` data, predict whether the subscriptions in `test.csv` will be continued for another month, or not."
   ]
  },
  {
   "cell_type": "markdown",
   "metadata": {},
   "source": [
    "### Dataset descriptions\n",
    "Both `train.csv` and `test.csv` contain one row for each unique subscription. For each subscription, a single observation (`CustomerID`) is included during which the subscription was active. \n",
    "\n",
    "In addition to this identifier column, the `train.csv` dataset also contains the target label for the task, a binary column `Churn`.\n",
    "\n",
    "Besides that column, both datasets have an identical set of features that can be used to train your model to make predictions. Below you can see descriptions of each feature. Familiarize yourself with them so that you can harness them most effectively for this machine learning task!"
   ]
  },
  {
   "cell_type": "code",
   "execution_count": 1,
   "metadata": {},
   "outputs": [],
   "source": [
    "# pip install --upgrade pip"
   ]
  },
  {
   "cell_type": "code",
   "execution_count": 2,
   "metadata": {},
   "outputs": [],
   "source": [
    "# !pip install tensorflow"
   ]
  },
  {
   "cell_type": "code",
   "execution_count": 3,
   "metadata": {
    "scrolled": true
   },
   "outputs": [],
   "source": [
    "# !pip install xgboost"
   ]
  },
  {
   "cell_type": "code",
   "execution_count": 4,
   "metadata": {},
   "outputs": [],
   "source": [
    "# !pip install catboost"
   ]
  },
  {
   "cell_type": "code",
   "execution_count": 5,
   "metadata": {},
   "outputs": [
    {
     "data": {
      "text/html": [
       "<div>\n",
       "<style scoped>\n",
       "    .dataframe tbody tr th:only-of-type {\n",
       "        vertical-align: middle;\n",
       "    }\n",
       "\n",
       "    .dataframe tbody tr th {\n",
       "        vertical-align: top;\n",
       "    }\n",
       "\n",
       "    .dataframe thead th {\n",
       "        text-align: right;\n",
       "    }\n",
       "</style>\n",
       "<table border=\"1\" class=\"dataframe\">\n",
       "  <thead>\n",
       "    <tr style=\"text-align: right;\">\n",
       "      <th></th>\n",
       "      <th>Column_name</th>\n",
       "      <th>Column_type</th>\n",
       "      <th>Data_type</th>\n",
       "      <th>Description</th>\n",
       "    </tr>\n",
       "  </thead>\n",
       "  <tbody>\n",
       "    <tr>\n",
       "      <th>0</th>\n",
       "      <td>AccountAge</td>\n",
       "      <td>Feature</td>\n",
       "      <td>integer</td>\n",
       "      <td>The age of the user's account in months.</td>\n",
       "    </tr>\n",
       "    <tr>\n",
       "      <th>1</th>\n",
       "      <td>MonthlyCharges</td>\n",
       "      <td>Feature</td>\n",
       "      <td>float</td>\n",
       "      <td>The amount charged to the user on a monthly basis.</td>\n",
       "    </tr>\n",
       "    <tr>\n",
       "      <th>2</th>\n",
       "      <td>TotalCharges</td>\n",
       "      <td>Feature</td>\n",
       "      <td>float</td>\n",
       "      <td>The total charges incurred by the user over the account's lifetime.</td>\n",
       "    </tr>\n",
       "    <tr>\n",
       "      <th>3</th>\n",
       "      <td>SubscriptionType</td>\n",
       "      <td>Feature</td>\n",
       "      <td>object</td>\n",
       "      <td>The type of subscription chosen by the user (Basic, Standard, or Premium).</td>\n",
       "    </tr>\n",
       "    <tr>\n",
       "      <th>4</th>\n",
       "      <td>PaymentMethod</td>\n",
       "      <td>Feature</td>\n",
       "      <td>string</td>\n",
       "      <td>The method of payment used by the user.</td>\n",
       "    </tr>\n",
       "    <tr>\n",
       "      <th>5</th>\n",
       "      <td>PaperlessBilling</td>\n",
       "      <td>Feature</td>\n",
       "      <td>string</td>\n",
       "      <td>Indicates whether the user has opted for paperless billing (Yes or No).</td>\n",
       "    </tr>\n",
       "    <tr>\n",
       "      <th>6</th>\n",
       "      <td>ContentType</td>\n",
       "      <td>Feature</td>\n",
       "      <td>string</td>\n",
       "      <td>The type of content preferred by the user (Movies, TV Shows, or Both).</td>\n",
       "    </tr>\n",
       "    <tr>\n",
       "      <th>7</th>\n",
       "      <td>MultiDeviceAccess</td>\n",
       "      <td>Feature</td>\n",
       "      <td>string</td>\n",
       "      <td>Indicates whether the user has access to the service on multiple devices (Yes or No).</td>\n",
       "    </tr>\n",
       "    <tr>\n",
       "      <th>8</th>\n",
       "      <td>DeviceRegistered</td>\n",
       "      <td>Feature</td>\n",
       "      <td>string</td>\n",
       "      <td>The type of device registered by the user (TV, Mobile, Tablet, or Computer).</td>\n",
       "    </tr>\n",
       "    <tr>\n",
       "      <th>9</th>\n",
       "      <td>ViewingHoursPerWeek</td>\n",
       "      <td>Feature</td>\n",
       "      <td>float</td>\n",
       "      <td>The number of hours the user spends watching content per week.</td>\n",
       "    </tr>\n",
       "    <tr>\n",
       "      <th>10</th>\n",
       "      <td>AverageViewingDuration</td>\n",
       "      <td>Feature</td>\n",
       "      <td>float</td>\n",
       "      <td>The average duration of each viewing session in minutes.</td>\n",
       "    </tr>\n",
       "    <tr>\n",
       "      <th>11</th>\n",
       "      <td>ContentDownloadsPerMonth</td>\n",
       "      <td>Feature</td>\n",
       "      <td>integer</td>\n",
       "      <td>The number of content downloads by the user per month.</td>\n",
       "    </tr>\n",
       "    <tr>\n",
       "      <th>12</th>\n",
       "      <td>GenrePreference</td>\n",
       "      <td>Feature</td>\n",
       "      <td>string</td>\n",
       "      <td>The preferred genre of content chosen by the user.</td>\n",
       "    </tr>\n",
       "    <tr>\n",
       "      <th>13</th>\n",
       "      <td>UserRating</td>\n",
       "      <td>Feature</td>\n",
       "      <td>float</td>\n",
       "      <td>The user's rating for the service on a scale of 1 to 5.</td>\n",
       "    </tr>\n",
       "    <tr>\n",
       "      <th>14</th>\n",
       "      <td>SupportTicketsPerMonth</td>\n",
       "      <td>Feature</td>\n",
       "      <td>integer</td>\n",
       "      <td>The number of support tickets raised by the user per month.</td>\n",
       "    </tr>\n",
       "    <tr>\n",
       "      <th>15</th>\n",
       "      <td>Gender</td>\n",
       "      <td>Feature</td>\n",
       "      <td>string</td>\n",
       "      <td>The gender of the user (Male or Female).</td>\n",
       "    </tr>\n",
       "    <tr>\n",
       "      <th>16</th>\n",
       "      <td>WatchlistSize</td>\n",
       "      <td>Feature</td>\n",
       "      <td>float</td>\n",
       "      <td>The number of items in the user's watchlist.</td>\n",
       "    </tr>\n",
       "    <tr>\n",
       "      <th>17</th>\n",
       "      <td>ParentalControl</td>\n",
       "      <td>Feature</td>\n",
       "      <td>string</td>\n",
       "      <td>Indicates whether parental control is enabled for the user (Yes or No).</td>\n",
       "    </tr>\n",
       "    <tr>\n",
       "      <th>18</th>\n",
       "      <td>SubtitlesEnabled</td>\n",
       "      <td>Feature</td>\n",
       "      <td>string</td>\n",
       "      <td>Indicates whether subtitles are enabled for the user (Yes or No).</td>\n",
       "    </tr>\n",
       "    <tr>\n",
       "      <th>19</th>\n",
       "      <td>CustomerID</td>\n",
       "      <td>Identifier</td>\n",
       "      <td>string</td>\n",
       "      <td>A unique identifier for each customer.</td>\n",
       "    </tr>\n",
       "    <tr>\n",
       "      <th>20</th>\n",
       "      <td>Churn</td>\n",
       "      <td>Target</td>\n",
       "      <td>integer</td>\n",
       "      <td>The target variable indicating whether a user has churned or not (1 for churned, 0 for not churned).</td>\n",
       "    </tr>\n",
       "  </tbody>\n",
       "</table>\n",
       "</div>"
      ],
      "text/plain": [
       "                 Column_name Column_type Data_type  \\\n",
       "0                 AccountAge     Feature   integer   \n",
       "1             MonthlyCharges     Feature     float   \n",
       "2               TotalCharges     Feature     float   \n",
       "3           SubscriptionType     Feature    object   \n",
       "4              PaymentMethod     Feature    string   \n",
       "5           PaperlessBilling     Feature    string   \n",
       "6                ContentType     Feature    string   \n",
       "7          MultiDeviceAccess     Feature    string   \n",
       "8           DeviceRegistered     Feature    string   \n",
       "9        ViewingHoursPerWeek     Feature     float   \n",
       "10    AverageViewingDuration     Feature     float   \n",
       "11  ContentDownloadsPerMonth     Feature   integer   \n",
       "12           GenrePreference     Feature    string   \n",
       "13                UserRating     Feature     float   \n",
       "14    SupportTicketsPerMonth     Feature   integer   \n",
       "15                    Gender     Feature    string   \n",
       "16             WatchlistSize     Feature     float   \n",
       "17           ParentalControl     Feature    string   \n",
       "18          SubtitlesEnabled     Feature    string   \n",
       "19                CustomerID  Identifier    string   \n",
       "20                     Churn      Target   integer   \n",
       "\n",
       "                                                                                             Description  \n",
       "0                                                               The age of the user's account in months.  \n",
       "1                                                     The amount charged to the user on a monthly basis.  \n",
       "2                                    The total charges incurred by the user over the account's lifetime.  \n",
       "3                             The type of subscription chosen by the user (Basic, Standard, or Premium).  \n",
       "4                                                                The method of payment used by the user.  \n",
       "5                                Indicates whether the user has opted for paperless billing (Yes or No).  \n",
       "6                                 The type of content preferred by the user (Movies, TV Shows, or Both).  \n",
       "7                  Indicates whether the user has access to the service on multiple devices (Yes or No).  \n",
       "8                           The type of device registered by the user (TV, Mobile, Tablet, or Computer).  \n",
       "9                                         The number of hours the user spends watching content per week.  \n",
       "10                                              The average duration of each viewing session in minutes.  \n",
       "11                                                The number of content downloads by the user per month.  \n",
       "12                                                    The preferred genre of content chosen by the user.  \n",
       "13                                               The user's rating for the service on a scale of 1 to 5.  \n",
       "14                                           The number of support tickets raised by the user per month.  \n",
       "15                                                              The gender of the user (Male or Female).  \n",
       "16                                                          The number of items in the user's watchlist.  \n",
       "17                               Indicates whether parental control is enabled for the user (Yes or No).  \n",
       "18                                     Indicates whether subtitles are enabled for the user (Yes or No).  \n",
       "19                                                                A unique identifier for each customer.  \n",
       "20  The target variable indicating whether a user has churned or not (1 for churned, 0 for not churned).  "
      ]
     },
     "execution_count": 5,
     "metadata": {},
     "output_type": "execute_result"
    }
   ],
   "source": [
    "import pandas as pd\n",
    "data_descriptions = pd.read_csv('data_descriptions.csv')\n",
    "pd.set_option('display.max_colwidth', None)\n",
    "data_descriptions"
   ]
  },
  {
   "cell_type": "markdown",
   "metadata": {},
   "source": [
    "## How to Submit your Predictions to Coursera\n",
    "Submission Format:\n",
    "\n",
    "In this notebook you should follow the steps below to explore the data, train a model using the data in `train.csv`, and then score your model using the data in `test.csv`. Your final submission should be a dataframe (call it `prediction_df` with two columns and exactly 104,480 rows (plus a header row). The first column should be `CustomerID` so that we know which prediction belongs to which observation. The second column should be called `predicted_probability` and should be a numeric column representing the __likellihood that the subscription will churn__.\n",
    "\n",
    "Your submission will show an error if you have extra columns (beyond `CustomerID` and `predicted_probability`) or extra rows. The order of the rows does not matter.\n",
    "\n",
    "The naming convention of the dataframe and columns are critical for our autograding, so please make sure to use the exact naming conventions of `prediction_df` with column names `CustomerID` and `predicted_probability`!\n",
    "\n",
    "To determine your final score, we will compare your `predicted_probability` predictions to the source of truth labels for the observations in `test.csv` and calculate the [ROC AUC](https://scikit-learn.org/stable/modules/generated/sklearn.metrics.roc_auc_score.html). We choose this metric because we not only want to be able to predict which subscriptions will be retained, but also want a well-calibrated likelihood score that can be used to target interventions and support most accurately."
   ]
  },
  {
   "cell_type": "markdown",
   "metadata": {},
   "source": [
    "## Import Python Modules\n",
    "\n",
    "First, import the primary modules that will be used in this project. Remember as this is an open-ended project please feel free to make use of any of your favorite libraries that you feel may be useful for this challenge. For example some of the following popular packages may be useful:\n",
    "\n",
    "- pandas\n",
    "- numpy\n",
    "- Scipy\n",
    "- Scikit-learn\n",
    "- keras\n",
    "- maplotlib\n",
    "- seaborn\n",
    "- etc, etc"
   ]
  },
  {
   "cell_type": "code",
   "execution_count": 6,
   "metadata": {},
   "outputs": [],
   "source": [
    "# Import required packages\n",
    "\n",
    "# Data packages\n",
    "import pandas as pd\n",
    "import numpy as np\n",
    "\n",
    "# Machine Learning / Classification packages\n",
    "from sklearn.metrics import roc_auc_score\n",
    "from sklearn.model_selection import train_test_split\n",
    "from sklearn.dummy import DummyClassifier\n",
    "\n",
    "# Visualization Packages\n",
    "from matplotlib import pyplot as plt\n",
    "import seaborn as sns\n",
    "%matplotlib inline"
   ]
  },
  {
   "cell_type": "code",
   "execution_count": 7,
   "metadata": {},
   "outputs": [],
   "source": [
    "# Import any other packages you may want to use\n",
    "from sklearn.preprocessing import StandardScaler, LabelEncoder\n",
    "from sklearn.feature_selection import VarianceThreshold\n",
    "from sklearn.utils.class_weight import compute_class_weight\n",
    "from sklearn.metrics import classification_report, confusion_matrix\n",
    "from sklearn.ensemble import RandomForestClassifier\n",
    "# from sklearn.model_selection import GridSearchCV\n",
    "# from sklearn.model_selection import RandomizedSearchCV, StratifiedShuffleSplit\n",
    "\n",
    "from xgboost import XGBClassifier\n",
    "# from catboost import CatBoostClassifier\n",
    "\n",
    "import tensorflow as tf\n",
    "from tensorflow.keras.models import Sequential\n",
    "from tensorflow.keras.layers import Dense, Dropout, BatchNormalization, LeakyReLU\n",
    "from tensorflow.keras.callbacks import EarlyStopping\n",
    "from tensorflow.keras.utils import to_categorical"
   ]
  },
  {
   "cell_type": "markdown",
   "metadata": {},
   "source": [
    "## Load the Data\n",
    "\n",
    "Let's start by loading the dataset `train.csv` into a dataframe `train_df`, and `test.csv` into a dataframe `test_df` and display the shape of the dataframes."
   ]
  },
  {
   "cell_type": "code",
   "execution_count": 8,
   "metadata": {},
   "outputs": [
    {
     "name": "stdout",
     "output_type": "stream",
     "text": [
      "train_df Shape: (243787, 21)\n"
     ]
    },
    {
     "data": {
      "text/html": [
       "<div>\n",
       "<style scoped>\n",
       "    .dataframe tbody tr th:only-of-type {\n",
       "        vertical-align: middle;\n",
       "    }\n",
       "\n",
       "    .dataframe tbody tr th {\n",
       "        vertical-align: top;\n",
       "    }\n",
       "\n",
       "    .dataframe thead th {\n",
       "        text-align: right;\n",
       "    }\n",
       "</style>\n",
       "<table border=\"1\" class=\"dataframe\">\n",
       "  <thead>\n",
       "    <tr style=\"text-align: right;\">\n",
       "      <th></th>\n",
       "      <th>AccountAge</th>\n",
       "      <th>MonthlyCharges</th>\n",
       "      <th>TotalCharges</th>\n",
       "      <th>SubscriptionType</th>\n",
       "      <th>PaymentMethod</th>\n",
       "      <th>PaperlessBilling</th>\n",
       "      <th>ContentType</th>\n",
       "      <th>MultiDeviceAccess</th>\n",
       "      <th>DeviceRegistered</th>\n",
       "      <th>ViewingHoursPerWeek</th>\n",
       "      <th>...</th>\n",
       "      <th>ContentDownloadsPerMonth</th>\n",
       "      <th>GenrePreference</th>\n",
       "      <th>UserRating</th>\n",
       "      <th>SupportTicketsPerMonth</th>\n",
       "      <th>Gender</th>\n",
       "      <th>WatchlistSize</th>\n",
       "      <th>ParentalControl</th>\n",
       "      <th>SubtitlesEnabled</th>\n",
       "      <th>CustomerID</th>\n",
       "      <th>Churn</th>\n",
       "    </tr>\n",
       "  </thead>\n",
       "  <tbody>\n",
       "    <tr>\n",
       "      <th>0</th>\n",
       "      <td>20</td>\n",
       "      <td>11.055215</td>\n",
       "      <td>221.104302</td>\n",
       "      <td>Premium</td>\n",
       "      <td>Mailed check</td>\n",
       "      <td>No</td>\n",
       "      <td>Both</td>\n",
       "      <td>No</td>\n",
       "      <td>Mobile</td>\n",
       "      <td>36.758104</td>\n",
       "      <td>...</td>\n",
       "      <td>10</td>\n",
       "      <td>Sci-Fi</td>\n",
       "      <td>2.176498</td>\n",
       "      <td>4</td>\n",
       "      <td>Male</td>\n",
       "      <td>3</td>\n",
       "      <td>No</td>\n",
       "      <td>No</td>\n",
       "      <td>CB6SXPNVZA</td>\n",
       "      <td>0</td>\n",
       "    </tr>\n",
       "    <tr>\n",
       "      <th>1</th>\n",
       "      <td>57</td>\n",
       "      <td>5.175208</td>\n",
       "      <td>294.986882</td>\n",
       "      <td>Basic</td>\n",
       "      <td>Credit card</td>\n",
       "      <td>Yes</td>\n",
       "      <td>Movies</td>\n",
       "      <td>No</td>\n",
       "      <td>Tablet</td>\n",
       "      <td>32.450568</td>\n",
       "      <td>...</td>\n",
       "      <td>18</td>\n",
       "      <td>Action</td>\n",
       "      <td>3.478632</td>\n",
       "      <td>8</td>\n",
       "      <td>Male</td>\n",
       "      <td>23</td>\n",
       "      <td>No</td>\n",
       "      <td>Yes</td>\n",
       "      <td>S7R2G87O09</td>\n",
       "      <td>0</td>\n",
       "    </tr>\n",
       "    <tr>\n",
       "      <th>2</th>\n",
       "      <td>73</td>\n",
       "      <td>12.106657</td>\n",
       "      <td>883.785952</td>\n",
       "      <td>Basic</td>\n",
       "      <td>Mailed check</td>\n",
       "      <td>Yes</td>\n",
       "      <td>Movies</td>\n",
       "      <td>No</td>\n",
       "      <td>Computer</td>\n",
       "      <td>7.395160</td>\n",
       "      <td>...</td>\n",
       "      <td>23</td>\n",
       "      <td>Fantasy</td>\n",
       "      <td>4.238824</td>\n",
       "      <td>6</td>\n",
       "      <td>Male</td>\n",
       "      <td>1</td>\n",
       "      <td>Yes</td>\n",
       "      <td>Yes</td>\n",
       "      <td>EASDC20BDT</td>\n",
       "      <td>0</td>\n",
       "    </tr>\n",
       "    <tr>\n",
       "      <th>3</th>\n",
       "      <td>32</td>\n",
       "      <td>7.263743</td>\n",
       "      <td>232.439774</td>\n",
       "      <td>Basic</td>\n",
       "      <td>Electronic check</td>\n",
       "      <td>No</td>\n",
       "      <td>TV Shows</td>\n",
       "      <td>No</td>\n",
       "      <td>Tablet</td>\n",
       "      <td>27.960389</td>\n",
       "      <td>...</td>\n",
       "      <td>30</td>\n",
       "      <td>Drama</td>\n",
       "      <td>4.276013</td>\n",
       "      <td>2</td>\n",
       "      <td>Male</td>\n",
       "      <td>24</td>\n",
       "      <td>Yes</td>\n",
       "      <td>Yes</td>\n",
       "      <td>NPF69NT69N</td>\n",
       "      <td>0</td>\n",
       "    </tr>\n",
       "    <tr>\n",
       "      <th>4</th>\n",
       "      <td>57</td>\n",
       "      <td>16.953078</td>\n",
       "      <td>966.325422</td>\n",
       "      <td>Premium</td>\n",
       "      <td>Electronic check</td>\n",
       "      <td>Yes</td>\n",
       "      <td>TV Shows</td>\n",
       "      <td>No</td>\n",
       "      <td>TV</td>\n",
       "      <td>20.083397</td>\n",
       "      <td>...</td>\n",
       "      <td>20</td>\n",
       "      <td>Comedy</td>\n",
       "      <td>3.616170</td>\n",
       "      <td>4</td>\n",
       "      <td>Female</td>\n",
       "      <td>0</td>\n",
       "      <td>No</td>\n",
       "      <td>No</td>\n",
       "      <td>4LGYPK7VOL</td>\n",
       "      <td>0</td>\n",
       "    </tr>\n",
       "  </tbody>\n",
       "</table>\n",
       "<p>5 rows × 21 columns</p>\n",
       "</div>"
      ],
      "text/plain": [
       "   AccountAge  MonthlyCharges  TotalCharges SubscriptionType  \\\n",
       "0          20       11.055215    221.104302          Premium   \n",
       "1          57        5.175208    294.986882            Basic   \n",
       "2          73       12.106657    883.785952            Basic   \n",
       "3          32        7.263743    232.439774            Basic   \n",
       "4          57       16.953078    966.325422          Premium   \n",
       "\n",
       "      PaymentMethod PaperlessBilling ContentType MultiDeviceAccess  \\\n",
       "0      Mailed check               No        Both                No   \n",
       "1       Credit card              Yes      Movies                No   \n",
       "2      Mailed check              Yes      Movies                No   \n",
       "3  Electronic check               No    TV Shows                No   \n",
       "4  Electronic check              Yes    TV Shows                No   \n",
       "\n",
       "  DeviceRegistered  ViewingHoursPerWeek  ...  ContentDownloadsPerMonth  \\\n",
       "0           Mobile            36.758104  ...                        10   \n",
       "1           Tablet            32.450568  ...                        18   \n",
       "2         Computer             7.395160  ...                        23   \n",
       "3           Tablet            27.960389  ...                        30   \n",
       "4               TV            20.083397  ...                        20   \n",
       "\n",
       "   GenrePreference UserRating  SupportTicketsPerMonth  Gender WatchlistSize  \\\n",
       "0           Sci-Fi   2.176498                       4    Male             3   \n",
       "1           Action   3.478632                       8    Male            23   \n",
       "2          Fantasy   4.238824                       6    Male             1   \n",
       "3            Drama   4.276013                       2    Male            24   \n",
       "4           Comedy   3.616170                       4  Female             0   \n",
       "\n",
       "   ParentalControl SubtitlesEnabled  CustomerID Churn  \n",
       "0               No               No  CB6SXPNVZA     0  \n",
       "1               No              Yes  S7R2G87O09     0  \n",
       "2              Yes              Yes  EASDC20BDT     0  \n",
       "3              Yes              Yes  NPF69NT69N     0  \n",
       "4               No               No  4LGYPK7VOL     0  \n",
       "\n",
       "[5 rows x 21 columns]"
      ]
     },
     "execution_count": 8,
     "metadata": {},
     "output_type": "execute_result"
    }
   ],
   "source": [
    "train_df = pd.read_csv(\"train.csv\")\n",
    "print('train_df Shape:', train_df.shape)\n",
    "train_df.head()"
   ]
  },
  {
   "cell_type": "code",
   "execution_count": 9,
   "metadata": {},
   "outputs": [
    {
     "name": "stdout",
     "output_type": "stream",
     "text": [
      "test_df Shape: (104480, 20)\n"
     ]
    },
    {
     "data": {
      "text/html": [
       "<div>\n",
       "<style scoped>\n",
       "    .dataframe tbody tr th:only-of-type {\n",
       "        vertical-align: middle;\n",
       "    }\n",
       "\n",
       "    .dataframe tbody tr th {\n",
       "        vertical-align: top;\n",
       "    }\n",
       "\n",
       "    .dataframe thead th {\n",
       "        text-align: right;\n",
       "    }\n",
       "</style>\n",
       "<table border=\"1\" class=\"dataframe\">\n",
       "  <thead>\n",
       "    <tr style=\"text-align: right;\">\n",
       "      <th></th>\n",
       "      <th>AccountAge</th>\n",
       "      <th>MonthlyCharges</th>\n",
       "      <th>TotalCharges</th>\n",
       "      <th>SubscriptionType</th>\n",
       "      <th>PaymentMethod</th>\n",
       "      <th>PaperlessBilling</th>\n",
       "      <th>ContentType</th>\n",
       "      <th>MultiDeviceAccess</th>\n",
       "      <th>DeviceRegistered</th>\n",
       "      <th>ViewingHoursPerWeek</th>\n",
       "      <th>AverageViewingDuration</th>\n",
       "      <th>ContentDownloadsPerMonth</th>\n",
       "      <th>GenrePreference</th>\n",
       "      <th>UserRating</th>\n",
       "      <th>SupportTicketsPerMonth</th>\n",
       "      <th>Gender</th>\n",
       "      <th>WatchlistSize</th>\n",
       "      <th>ParentalControl</th>\n",
       "      <th>SubtitlesEnabled</th>\n",
       "      <th>CustomerID</th>\n",
       "    </tr>\n",
       "  </thead>\n",
       "  <tbody>\n",
       "    <tr>\n",
       "      <th>0</th>\n",
       "      <td>38</td>\n",
       "      <td>17.869374</td>\n",
       "      <td>679.036195</td>\n",
       "      <td>Premium</td>\n",
       "      <td>Mailed check</td>\n",
       "      <td>No</td>\n",
       "      <td>TV Shows</td>\n",
       "      <td>No</td>\n",
       "      <td>TV</td>\n",
       "      <td>29.126308</td>\n",
       "      <td>122.274031</td>\n",
       "      <td>42</td>\n",
       "      <td>Comedy</td>\n",
       "      <td>3.522724</td>\n",
       "      <td>2</td>\n",
       "      <td>Male</td>\n",
       "      <td>23</td>\n",
       "      <td>No</td>\n",
       "      <td>No</td>\n",
       "      <td>O1W6BHP6RM</td>\n",
       "    </tr>\n",
       "    <tr>\n",
       "      <th>1</th>\n",
       "      <td>77</td>\n",
       "      <td>9.912854</td>\n",
       "      <td>763.289768</td>\n",
       "      <td>Basic</td>\n",
       "      <td>Electronic check</td>\n",
       "      <td>Yes</td>\n",
       "      <td>TV Shows</td>\n",
       "      <td>No</td>\n",
       "      <td>TV</td>\n",
       "      <td>36.873729</td>\n",
       "      <td>57.093319</td>\n",
       "      <td>43</td>\n",
       "      <td>Action</td>\n",
       "      <td>2.021545</td>\n",
       "      <td>2</td>\n",
       "      <td>Female</td>\n",
       "      <td>22</td>\n",
       "      <td>Yes</td>\n",
       "      <td>No</td>\n",
       "      <td>LFR4X92X8H</td>\n",
       "    </tr>\n",
       "    <tr>\n",
       "      <th>2</th>\n",
       "      <td>5</td>\n",
       "      <td>15.019011</td>\n",
       "      <td>75.095057</td>\n",
       "      <td>Standard</td>\n",
       "      <td>Bank transfer</td>\n",
       "      <td>No</td>\n",
       "      <td>TV Shows</td>\n",
       "      <td>Yes</td>\n",
       "      <td>Computer</td>\n",
       "      <td>7.601729</td>\n",
       "      <td>140.414001</td>\n",
       "      <td>14</td>\n",
       "      <td>Sci-Fi</td>\n",
       "      <td>4.806126</td>\n",
       "      <td>2</td>\n",
       "      <td>Female</td>\n",
       "      <td>22</td>\n",
       "      <td>No</td>\n",
       "      <td>Yes</td>\n",
       "      <td>QM5GBIYODA</td>\n",
       "    </tr>\n",
       "    <tr>\n",
       "      <th>3</th>\n",
       "      <td>88</td>\n",
       "      <td>15.357406</td>\n",
       "      <td>1351.451692</td>\n",
       "      <td>Standard</td>\n",
       "      <td>Electronic check</td>\n",
       "      <td>No</td>\n",
       "      <td>Both</td>\n",
       "      <td>Yes</td>\n",
       "      <td>Tablet</td>\n",
       "      <td>35.586430</td>\n",
       "      <td>177.002419</td>\n",
       "      <td>14</td>\n",
       "      <td>Comedy</td>\n",
       "      <td>4.943900</td>\n",
       "      <td>0</td>\n",
       "      <td>Female</td>\n",
       "      <td>23</td>\n",
       "      <td>Yes</td>\n",
       "      <td>Yes</td>\n",
       "      <td>D9RXTK2K9F</td>\n",
       "    </tr>\n",
       "    <tr>\n",
       "      <th>4</th>\n",
       "      <td>91</td>\n",
       "      <td>12.406033</td>\n",
       "      <td>1128.949004</td>\n",
       "      <td>Standard</td>\n",
       "      <td>Credit card</td>\n",
       "      <td>Yes</td>\n",
       "      <td>TV Shows</td>\n",
       "      <td>Yes</td>\n",
       "      <td>Tablet</td>\n",
       "      <td>23.503651</td>\n",
       "      <td>70.308376</td>\n",
       "      <td>6</td>\n",
       "      <td>Drama</td>\n",
       "      <td>2.846880</td>\n",
       "      <td>6</td>\n",
       "      <td>Female</td>\n",
       "      <td>0</td>\n",
       "      <td>No</td>\n",
       "      <td>No</td>\n",
       "      <td>ENTCCHR1LR</td>\n",
       "    </tr>\n",
       "  </tbody>\n",
       "</table>\n",
       "</div>"
      ],
      "text/plain": [
       "   AccountAge  MonthlyCharges  TotalCharges SubscriptionType  \\\n",
       "0          38       17.869374    679.036195          Premium   \n",
       "1          77        9.912854    763.289768            Basic   \n",
       "2           5       15.019011     75.095057         Standard   \n",
       "3          88       15.357406   1351.451692         Standard   \n",
       "4          91       12.406033   1128.949004         Standard   \n",
       "\n",
       "      PaymentMethod PaperlessBilling ContentType MultiDeviceAccess  \\\n",
       "0      Mailed check               No    TV Shows                No   \n",
       "1  Electronic check              Yes    TV Shows                No   \n",
       "2     Bank transfer               No    TV Shows               Yes   \n",
       "3  Electronic check               No        Both               Yes   \n",
       "4       Credit card              Yes    TV Shows               Yes   \n",
       "\n",
       "  DeviceRegistered  ViewingHoursPerWeek  AverageViewingDuration  \\\n",
       "0               TV            29.126308              122.274031   \n",
       "1               TV            36.873729               57.093319   \n",
       "2         Computer             7.601729              140.414001   \n",
       "3           Tablet            35.586430              177.002419   \n",
       "4           Tablet            23.503651               70.308376   \n",
       "\n",
       "   ContentDownloadsPerMonth GenrePreference  UserRating  \\\n",
       "0                        42          Comedy    3.522724   \n",
       "1                        43          Action    2.021545   \n",
       "2                        14          Sci-Fi    4.806126   \n",
       "3                        14          Comedy    4.943900   \n",
       "4                         6           Drama    2.846880   \n",
       "\n",
       "   SupportTicketsPerMonth  Gender  WatchlistSize ParentalControl  \\\n",
       "0                       2    Male             23              No   \n",
       "1                       2  Female             22             Yes   \n",
       "2                       2  Female             22              No   \n",
       "3                       0  Female             23             Yes   \n",
       "4                       6  Female              0              No   \n",
       "\n",
       "  SubtitlesEnabled  CustomerID  \n",
       "0               No  O1W6BHP6RM  \n",
       "1               No  LFR4X92X8H  \n",
       "2              Yes  QM5GBIYODA  \n",
       "3              Yes  D9RXTK2K9F  \n",
       "4               No  ENTCCHR1LR  "
      ]
     },
     "execution_count": 9,
     "metadata": {},
     "output_type": "execute_result"
    }
   ],
   "source": [
    "test_df = pd.read_csv(\"test.csv\")\n",
    "print('test_df Shape:', test_df.shape)\n",
    "test_df.head()"
   ]
  },
  {
   "cell_type": "markdown",
   "metadata": {},
   "source": [
    "## Explore, Clean, Validate, and Visualize the Data (optional)\n",
    "\n",
    "Feel free to explore, clean, validate, and visualize the data however you see fit for this competition to help determine or optimize your predictive model. Please note - the final autograding will only be on the accuracy of the `prediction_df` predictions."
   ]
  },
  {
   "cell_type": "markdown",
   "metadata": {},
   "source": [
    "### Count and Percentage of NaNs in Numerical Features"
   ]
  },
  {
   "cell_type": "code",
   "execution_count": 10,
   "metadata": {},
   "outputs": [
    {
     "data": {
      "text/html": [
       "<div>\n",
       "<style scoped>\n",
       "    .dataframe tbody tr th:only-of-type {\n",
       "        vertical-align: middle;\n",
       "    }\n",
       "\n",
       "    .dataframe tbody tr th {\n",
       "        vertical-align: top;\n",
       "    }\n",
       "\n",
       "    .dataframe thead th {\n",
       "        text-align: right;\n",
       "    }\n",
       "</style>\n",
       "<table border=\"1\" class=\"dataframe\">\n",
       "  <thead>\n",
       "    <tr style=\"text-align: right;\">\n",
       "      <th></th>\n",
       "      <th>Missing Values</th>\n",
       "      <th>Percent Missing</th>\n",
       "    </tr>\n",
       "  </thead>\n",
       "  <tbody>\n",
       "  </tbody>\n",
       "</table>\n",
       "</div>"
      ],
      "text/plain": [
       "Empty DataFrame\n",
       "Columns: [Missing Values, Percent Missing]\n",
       "Index: []"
      ]
     },
     "execution_count": 10,
     "metadata": {},
     "output_type": "execute_result"
    }
   ],
   "source": [
    "# Select numeric columns\n",
    "num_cols = train_df.select_dtypes(include=['float64', 'int64'])\n",
    "\n",
    "# Compute number and percentage of NaNs\n",
    "nan_count = num_cols.isnull().sum()\n",
    "nan_percent = (nan_count / len(train_df)) * 100\n",
    "\n",
    "# Combine into a summary table\n",
    "missing_summary = pd.DataFrame({\n",
    "    'Missing Values': nan_count,\n",
    "    'Percent Missing': nan_percent.round(2)\n",
    "})\n",
    "\n",
    "# Filter only columns with missing values\n",
    "missing_summary = missing_summary[missing_summary['Missing Values'] > 0]\n",
    "missing_summary.sort_values(by='Percent Missing', ascending=False)"
   ]
  },
  {
   "cell_type": "markdown",
   "metadata": {},
   "source": [
    "### Class Balance (Churned vs Not Churned)"
   ]
  },
  {
   "cell_type": "code",
   "execution_count": 11,
   "metadata": {},
   "outputs": [
    {
     "data": {
      "image/png": "[encoded data removed]",
      "text/plain": [
       "<Figure size 432x288 with 1 Axes>"
      ]
     },
     "metadata": {
      "needs_background": "light"
     },
     "output_type": "display_data"
    }
   ],
   "source": [
    "plt.figure(figsize=(6,4))\n",
    "sns.countplot(x='Churn', data=train_df, palette='viridis')\n",
    "plt.title(\"Churn Distribution\")\n",
    "plt.xlabel(\"Churn (1 = Yes, 0 = No)\")\n",
    "plt.ylabel(\"Number of Users\")\n",
    "plt.show()"
   ]
  },
  {
   "cell_type": "markdown",
   "metadata": {},
   "source": [
    "### Distribution of Numerical Values"
   ]
  },
  {
   "cell_type": "code",
   "execution_count": 12,
   "metadata": {},
   "outputs": [
    {
     "data": {
      "image/png": "[encoded data removed]",
      "text/plain": [
       "<Figure size 1080x720 with 9 Axes>"
      ]
     },
     "metadata": {
      "needs_background": "light"
     },
     "output_type": "display_data"
    }
   ],
   "source": [
    "num_cols = ['AccountAge', 'MonthlyCharges', 'TotalCharges', 'ViewingHoursPerWeek', \n",
    "            'AverageViewingDuration', 'ContentDownloadsPerMonth', 'UserRating', \n",
    "            'SupportTicketsPerMonth', 'WatchlistSize']\n",
    "\n",
    "train_df[num_cols].hist(bins=20, figsize=(15,10), color='steelblue')\n",
    "# plt.suptitle(\"Distributions of Numeric Features\", fontsize=16)\n",
    "plt.tight_layout()\n",
    "plt.show()"
   ]
  },
  {
   "cell_type": "markdown",
   "metadata": {},
   "source": [
    "### Churn vs Monthly Charges"
   ]
  },
  {
   "cell_type": "code",
   "execution_count": 13,
   "metadata": {},
   "outputs": [
    {
     "data": {
      "image/png": "[encoded data removed]",
      "text/plain": [
       "<Figure size 576x360 with 1 Axes>"
      ]
     },
     "metadata": {
      "needs_background": "light"
     },
     "output_type": "display_data"
    }
   ],
   "source": [
    "plt.figure(figsize=(8,5))\n",
    "sns.boxplot(x='Churn', y='MonthlyCharges', data=train_df, palette='coolwarm')\n",
    "plt.title(\"Monthly Charges by Churn Status\")\n",
    "plt.show()"
   ]
  },
  {
   "cell_type": "markdown",
   "metadata": {},
   "source": [
    "### Correlation Heatmap of Numerical Features"
   ]
  },
  {
   "cell_type": "code",
   "execution_count": 14,
   "metadata": {},
   "outputs": [
    {
     "data": {
      "image/png": "[encoded data removed]",
      "text/plain": [
       "<Figure size 864x576 with 2 Axes>"
      ]
     },
     "metadata": {
      "needs_background": "light"
     },
     "output_type": "display_data"
    }
   ],
   "source": [
    "plt.figure(figsize=(12, 8))\n",
    "corr = train_df[num_cols + ['Churn']].corr()\n",
    "sns.heatmap(corr, annot=True, fmt=\".2f\", cmap=\"coolwarm\", square=True)\n",
    "plt.title(\"Correlation Heatmap\")\n",
    "plt.show()"
   ]
  },
  {
   "cell_type": "markdown",
   "metadata": {},
   "source": [
    "### Churn Rate by Subscription Types"
   ]
  },
  {
   "cell_type": "code",
   "execution_count": 15,
   "metadata": {},
   "outputs": [
    {
     "data": {
      "image/png": "[encoded data removed]",
      "text/plain": [
       "<Figure size 504x288 with 1 Axes>"
      ]
     },
     "metadata": {
      "needs_background": "light"
     },
     "output_type": "display_data"
    }
   ],
   "source": [
    "plt.figure(figsize=(7,4))\n",
    "sns.barplot(x='SubscriptionType', y='Churn', data=train_df, estimator=lambda x: sum(x)/len(x), ci=None)\n",
    "plt.title(\"Churn Rate by Subscription Type\")\n",
    "plt.ylabel(\"Churn Rate\")\n",
    "plt.show()"
   ]
  },
  {
   "cell_type": "markdown",
   "metadata": {},
   "source": [
    "### Stacked Bar for Categorical Features"
   ]
  },
  {
   "cell_type": "code",
   "execution_count": 16,
   "metadata": {},
   "outputs": [
    {
     "data": {
      "image/png": "[encoded data removed]",
      "text/plain": [
       "<Figure size 504x288 with 1 Axes>"
      ]
     },
     "metadata": {
      "needs_background": "light"
     },
     "output_type": "display_data"
    },
    {
     "data": {
      "image/png": "[encoded data removed]",
      "text/plain": [
       "<Figure size 504x288 with 1 Axes>"
      ]
     },
     "metadata": {
      "needs_background": "light"
     },
     "output_type": "display_data"
    },
    {
     "data": {
      "image/png": "[encoded data removed]",
      "text/plain": [
       "<Figure size 504x288 with 1 Axes>"
      ]
     },
     "metadata": {
      "needs_background": "light"
     },
     "output_type": "display_data"
    },
    {
     "data": {
      "image/png": "[encoded data removed]",
      "text/plain": [
       "<Figure size 504x288 with 1 Axes>"
      ]
     },
     "metadata": {
      "needs_background": "light"
     },
     "output_type": "display_data"
    },
    {
     "data": {
      "image/png": "[encoded data removed]",
      "text/plain": [
       "<Figure size 504x288 with 1 Axes>"
      ]
     },
     "metadata": {
      "needs_background": "light"
     },
     "output_type": "display_data"
    },
    {
     "data": {
      "image/png": "[encoded data removed]",
      "text/plain": [
       "<Figure size 504x288 with 1 Axes>"
      ]
     },
     "metadata": {
      "needs_background": "light"
     },
     "output_type": "display_data"
    }
   ],
   "source": [
    "def stacked_bar(column):\n",
    "    crosstab = pd.crosstab(train_df[column], train_df['Churn'], normalize='index') * 100\n",
    "    crosstab.plot(kind='bar', stacked=True, figsize=(7,4), colormap='coolwarm')\n",
    "    plt.title(f'Churn Percentage by {column}')\n",
    "    plt.ylabel('Percentage')\n",
    "    plt.legend(title='Churn')\n",
    "    plt.show()\n",
    "\n",
    "for col in ['PaperlessBilling', 'ParentalControl', 'SubtitlesEnabled', \n",
    "            'MultiDeviceAccess', 'ContentType', 'DeviceRegistered']:\n",
    "    stacked_bar(col)"
   ]
  },
  {
   "cell_type": "markdown",
   "metadata": {},
   "source": [
    "## Data Preprocessing\n",
    "\n",
    "In this section, we first preprocess the categorical and numerical features accordingly based on the EDAs above. Then, we perform the train-test split for training purposes."
   ]
  },
  {
   "cell_type": "markdown",
   "metadata": {},
   "source": [
    "### Dropping Low-Variance and Irrelevant Features"
   ]
  },
  {
   "cell_type": "code",
   "execution_count": 17,
   "metadata": {},
   "outputs": [],
   "source": [
    "# extract customer IDs in the test set for submission later\n",
    "test_customer_IDs = test_df[['CustomerID']]\n",
    "\n",
    "# drop CustomerID which is an irrelevant feature\n",
    "train_df.drop('CustomerID', axis=1, inplace=True)\n",
    "test_df.drop('CustomerID', axis=1, inplace=True)"
   ]
  },
  {
   "cell_type": "code",
   "execution_count": 18,
   "metadata": {},
   "outputs": [
    {
     "name": "stdout",
     "output_type": "stream",
     "text": [
      "[]\n"
     ]
    }
   ],
   "source": [
    "# drop low-variance features\n",
    "selector = VarianceThreshold(threshold=0.1)\n",
    "train_df_numeric = train_df.select_dtypes(include=['float64', 'int64'])\n",
    "selector.fit(train_df_numeric.drop('Churn', axis=1))\n",
    "low_variance_cols = train_df_numeric.drop('Churn', axis=1).columns[~selector.get_support()]\n",
    "print(list(low_variance_cols))"
   ]
  },
  {
   "cell_type": "code",
   "execution_count": 19,
   "metadata": {},
   "outputs": [],
   "source": [
    "train_df.drop(columns=low_variance_cols, inplace=True)\n",
    "test_df.drop(columns=low_variance_cols, inplace=True)"
   ]
  },
  {
   "cell_type": "markdown",
   "metadata": {},
   "source": [
    "### Binary and One-hot Encoding"
   ]
  },
  {
   "cell_type": "code",
   "execution_count": 20,
   "metadata": {},
   "outputs": [],
   "source": [
    "# binary encoding\n",
    "binary_map = {'Yes': 1, 'No': 0, 'Male': 1, 'Female': 0}\n",
    "for col in ['PaperlessBilling', 'MultiDeviceAccess', 'ParentalControl', 'SubtitlesEnabled', 'Gender']:\n",
    "    train_df[col] = train_df[col].map(binary_map)\n",
    "    test_df[col] = test_df[col].map(binary_map)"
   ]
  },
  {
   "cell_type": "code",
   "execution_count": 21,
   "metadata": {},
   "outputs": [],
   "source": [
    "# one-hot encoding\n",
    "one_hot_cols=['SubscriptionType', 'PaymentMethod', 'ContentType', 'DeviceRegistered', 'GenrePreference']\n",
    "train_df = pd.get_dummies(train_df, columns=one_hot_cols, drop_first=True)\n",
    "test_df = pd.get_dummies(test_df, columns=one_hot_cols, drop_first=True)"
   ]
  },
  {
   "cell_type": "markdown",
   "metadata": {},
   "source": [
    "### Feature Engineering"
   ]
  },
  {
   "cell_type": "code",
   "execution_count": 22,
   "metadata": {},
   "outputs": [],
   "source": [
    "# Ratio features\n",
    "train_df['SupportRate'] = train_df['SupportTicketsPerMonth'] / (train_df['AccountAge'] + 1)\n",
    "train_df['ChargesPerMonth'] = train_df['TotalCharges'] / (train_df['AccountAge'] + 1)\n",
    "test_df['SupportRate'] = test_df['SupportTicketsPerMonth'] / (test_df['AccountAge'] + 1)\n",
    "test_df['ChargesPerMonth'] = test_df['TotalCharges'] / (test_df['AccountAge'] + 1)\n",
    "\n",
    "# Interaction Features\n",
    "train_df['CostEfficiency'] = train_df['ViewingHoursPerWeek'] / (train_df['MonthlyCharges'] + 1)\n",
    "train_df['EngagementScore'] = train_df['ViewingHoursPerWeek'] * train_df['AccountAge']\n",
    "test_df['CostEfficiency'] = test_df['ViewingHoursPerWeek'] / (test_df['MonthlyCharges'] + 1)\n",
    "test_df['EngagementScore'] = test_df['ViewingHoursPerWeek'] * test_df['AccountAge']\n",
    "\n",
    "# Combine boolean features into counts \n",
    "# (which may help save some training time as we combine mult features into one)\n",
    "train_df['NumEnabledFeatures'] = (train_df['MultiDeviceAccess'] + train_df['ParentalControl'] \n",
    "                            + train_df['SubtitlesEnabled'] + train_df['PaperlessBilling'])\n",
    "test_df['NumEnabledFeatures'] = (test_df['MultiDeviceAccess'] + test_df['ParentalControl'] \n",
    "                            + test_df['SubtitlesEnabled'] + test_df['PaperlessBilling'])\n",
    "\n",
    "# Log transform for skewed features\n",
    "train_df['LogTotalCharges'] = np.log1p(train_df['TotalCharges'])\n",
    "test_df['LogTotalCharges'] = np.log1p(test_df['TotalCharges'])\n",
    "\n",
    "# Drop columns related to the engineered features as they now become redundant\n",
    "cols_to_drop = ['TotalCharges', 'SupportTicketsPerMonth', 'ViewingHoursPerWeek', 'MultiDeviceAccess', \n",
    "                'ParentalControl', 'SubtitlesEnabled', 'PaperlessBilling']\n",
    "train_df.drop(cols_to_drop, axis=1, inplace=True)\n",
    "test_df.drop(cols_to_drop, axis=1, inplace=True)"
   ]
  },
  {
   "cell_type": "markdown",
   "metadata": {},
   "source": [
    "### Train-Test Split"
   ]
  },
  {
   "cell_type": "code",
   "execution_count": 23,
   "metadata": {},
   "outputs": [],
   "source": [
    "X = train_df.drop('Churn', axis=1)\n",
    "y = train_df['Churn']"
   ]
  },
  {
   "cell_type": "code",
   "execution_count": 24,
   "metadata": {},
   "outputs": [],
   "source": [
    "# train-test split\n",
    "X_train, X_test, y_train, y_test = train_test_split(X, y, test_size=0.2, stratify=y, random_state=42)"
   ]
  },
  {
   "cell_type": "code",
   "execution_count": 25,
   "metadata": {},
   "outputs": [
    {
     "name": "stdout",
     "output_type": "stream",
     "text": [
      "Class weights: {0: 0.6106717016106811, 1: 2.7589333710567265}\n"
     ]
    }
   ],
   "source": [
    "# class weight calculation\n",
    "classes = np.unique(y_train)\n",
    "weights = compute_class_weight(class_weight='balanced', classes=classes, y=y_train)\n",
    "class_weights = dict(zip(classes, weights))\n",
    "print(\"Class weights:\", class_weights)"
   ]
  },
  {
   "cell_type": "code",
   "execution_count": 26,
   "metadata": {},
   "outputs": [],
   "source": [
    "# scale features\n",
    "scalar = StandardScaler()\n",
    "X_train_scaled = scalar.fit_transform(X_train)\n",
    "X_test_scaled = scalar.transform(X_test)"
   ]
  },
  {
   "cell_type": "code",
   "execution_count": 27,
   "metadata": {},
   "outputs": [
    {
     "data": {
      "text/plain": [
       "(195029, 27)"
      ]
     },
     "execution_count": 27,
     "metadata": {},
     "output_type": "execute_result"
    }
   ],
   "source": [
    "X_train_scaled.shape"
   ]
  },
  {
   "cell_type": "code",
   "execution_count": 28,
   "metadata": {},
   "outputs": [
    {
     "data": {
      "text/plain": [
       "(48758, 27)"
      ]
     },
     "execution_count": 28,
     "metadata": {},
     "output_type": "execute_result"
    }
   ],
   "source": [
    "X_test_scaled.shape"
   ]
  },
  {
   "cell_type": "markdown",
   "metadata": {},
   "source": [
    "## Make predictions (required)\n",
    "\n",
    "Remember you should create a dataframe named `prediction_df` with exactly 104,480 entries plus a header row attempting to predict the likelihood of churn for subscriptions in `test_df`. Your submission will throw an error if you have extra columns (beyond `CustomerID` and `predicted_probaility`) or extra rows.\n",
    "\n",
    "The file should have exactly 2 columns:\n",
    "`CustomerID` (sorted in any order)\n",
    "`predicted_probability` (contains your numeric predicted probabilities between 0 and 1, e.g. from `estimator.predict_proba(X, y)[:, 1]`)\n",
    "\n",
    "The naming convention of the dataframe and columns are critical for our autograding, so please make sure to use the exact naming conventions of `prediction_df` with column names `CustomerID` and `predicted_probability`!"
   ]
  },
  {
   "cell_type": "markdown",
   "metadata": {},
   "source": [
    "### Define the XGBoost Model"
   ]
  },
  {
   "cell_type": "code",
   "execution_count": 29,
   "metadata": {},
   "outputs": [],
   "source": [
    "# split the full training set to a training set and validation set for training XGB\n",
    "X_train_xgb, X_val_xgb, y_train_xgb, y_val_xgb = train_test_split(\n",
    "    X_train, y_train, test_size=0.1, stratify=y_train, random_state=42\n",
    ")\n",
    "\n",
    "neg, pos = np.bincount(y_train)\n",
    "scale_pos_weight = neg / pos\n",
    "\n",
    "# Initialize XGB\n",
    "xgb_clf = XGBClassifier(\n",
    "    n_estimators=1000,\n",
    "    max_depth=6,\n",
    "    learning_rate=0.1,\n",
    "    scale_pos_weight=scale_pos_weight,\n",
    "    subsample=0.9,\n",
    "    colsample_bytree=0.8,\n",
    "    eval_metric='auc',\n",
    "    use_label_encoder=False,\n",
    "    random_state=42\n",
    ")"
   ]
  },
  {
   "cell_type": "code",
   "execution_count": 30,
   "metadata": {},
   "outputs": [
    {
     "data": {
      "text/plain": [
       "XGBClassifier(base_score=0.5, booster='gbtree', callbacks=None,\n",
       "              colsample_bylevel=1, colsample_bynode=1, colsample_bytree=0.8,\n",
       "              early_stopping_rounds=None, enable_categorical=False,\n",
       "              eval_metric='auc', gamma=0, gpu_id=-1, grow_policy='depthwise',\n",
       "              importance_type=None, interaction_constraints='',\n",
       "              learning_rate=0.1, max_bin=256, max_cat_to_onehot=4,\n",
       "              max_delta_step=0, max_depth=6, max_leaves=0, min_child_weight=1,\n",
       "              missing=nan, monotone_constraints='()', n_estimators=1000,\n",
       "              n_jobs=0, num_parallel_tree=1, objective='binary:logistic',\n",
       "              predictor='auto', random_state=42, reg_alpha=0, ...)"
      ]
     },
     "execution_count": 30,
     "metadata": {},
     "output_type": "execute_result"
    }
   ],
   "source": [
    "# Train the model\n",
    "xgb_clf.fit(X_train_xgb, y_train_xgb,\n",
    "            eval_set=[(X_val_xgb, y_val_xgb)],\n",
    "            early_stopping_rounds=5,\n",
    "            verbose=False\n",
    "           )"
   ]
  },
  {
   "cell_type": "markdown",
   "metadata": {},
   "source": [
    "### Evaluate the Initial XGBoost Model on the Test Set"
   ]
  },
  {
   "cell_type": "code",
   "execution_count": 31,
   "metadata": {},
   "outputs": [],
   "source": [
    "# Predict probabilities and labels\n",
    "y_pred_probs_xgb = xgb_clf.predict_proba(X_test)[:, 1]\n",
    "y_pred_xgb = (y_pred_probs_xgb > 0.5).astype(int)"
   ]
  },
  {
   "cell_type": "code",
   "execution_count": 32,
   "metadata": {},
   "outputs": [
    {
     "name": "stdout",
     "output_type": "stream",
     "text": [
      "[[26953 12968]\n",
      " [ 2751  6086]]\n",
      "              precision    recall  f1-score   support\n",
      "\n",
      "           0       0.91      0.68      0.77     39921\n",
      "           1       0.32      0.69      0.44      8837\n",
      "\n",
      "    accuracy                           0.68     48758\n",
      "   macro avg       0.61      0.68      0.61     48758\n",
      "weighted avg       0.80      0.68      0.71     48758\n",
      "\n",
      "ROC AUC: 0.7502280353817609\n"
     ]
    }
   ],
   "source": [
    "# Evaluate\n",
    "print(confusion_matrix(y_test, y_pred_xgb))\n",
    "print(classification_report(y_test, y_pred_xgb))\n",
    "print(\"ROC AUC:\", roc_auc_score(y_test, y_pred_probs_xgb))"
   ]
  },
  {
   "cell_type": "markdown",
   "metadata": {},
   "source": [
    "### Extract Important Features"
   ]
  },
  {
   "cell_type": "code",
   "execution_count": 33,
   "metadata": {},
   "outputs": [
    {
     "data": {
      "image/png": "[encoded data removed]",
      "text/plain": [
       "<Figure size 720x432 with 1 Axes>"
      ]
     },
     "metadata": {
      "needs_background": "light"
     },
     "output_type": "display_data"
    }
   ],
   "source": [
    "# Extract feature importances\n",
    "importances = xgb_clf.feature_importances_\n",
    "features = X_train.columns\n",
    "\n",
    "importance_df = pd.DataFrame({'Feature': features, 'Importance': importances})\n",
    "importance_df = importance_df.sort_values(by='Importance', ascending=False)\n",
    "\n",
    "# Plot the importances from highest to lowest\n",
    "plt.figure(figsize=(10, 6))\n",
    "plt.barh(importance_df['Feature'][:][::-1], importance_df['Importance'][:][::-1])\n",
    "plt.xlabel(\"Importance\")\n",
    "plt.title(\"Feature Importances (XGBoost)\")\n",
    "plt.tight_layout()\n",
    "plt.show()"
   ]
  },
  {
   "cell_type": "code",
   "execution_count": 34,
   "metadata": {},
   "outputs": [
    {
     "name": "stdout",
     "output_type": "stream",
     "text": [
      "Features to drop: []\n"
     ]
    }
   ],
   "source": [
    "# Drop features with very low importance (e.g., below threshold)\n",
    "threshold = 0.01 # change if needed\n",
    "low_importance = importance_df[importance_df['Importance'] < threshold]['Feature'].tolist()\n",
    "print(\"Features to drop:\", low_importance)"
   ]
  },
  {
   "cell_type": "markdown",
   "metadata": {},
   "source": [
    "### Fine-Tune The XGB Model"
   ]
  },
  {
   "cell_type": "code",
   "execution_count": 35,
   "metadata": {},
   "outputs": [
    {
     "name": "stdout",
     "output_type": "stream",
     "text": [
      "Trying learning_rate = 0.01\n",
      "AUC = 0.7469\n",
      "Trying learning_rate = 0.02\n",
      "AUC = 0.7464\n",
      "Trying learning_rate = 0.05\n",
      "AUC = 0.7458\n",
      "Trying learning_rate = 0.1\n",
      "AUC = 0.7443\n",
      "Trying learning_rate = 0.2\n",
      "AUC = 0.7417\n",
      "\n",
      "Best learning_rate: 0.01\n",
      "Best validation AUC: 0.7468637947748396\n"
     ]
    }
   ],
   "source": [
    "# Try a few learning rates manually\n",
    "learning_rates = [0.01, 0.02, 0.05, 0.1, 0.2]\n",
    "best_auc = 0\n",
    "best_lr = None\n",
    "best_xgb_clf = None\n",
    "\n",
    "# split the training set further to a smaller training set and validation set for fine tuning\n",
    "X_train_xgb_ft, X_val_xgb_ft, y_train_xgb_ft, y_val_xgb_ft = train_test_split(\n",
    "    X_train_xgb, y_train_xgb, test_size=0.1, stratify=y_train_xgb, random_state=42\n",
    ")\n",
    "\n",
    "# the parameters from the base model defined above\n",
    "fixed_params = {\n",
    "    'n_estimators': 1000,\n",
    "    'max_depth': 6,\n",
    "    'scale_pos_weight': scale_pos_weight,\n",
    "    'subsample': 0.9,\n",
    "    'colsample_bytree': 0.8,\n",
    "    'eval_metric': 'auc',\n",
    "    'use_label_encoder': False,\n",
    "    'random_state': 42\n",
    "}\n",
    "\n",
    "for lr in learning_rates:\n",
    "    print(f\"Trying learning_rate = {lr}\")\n",
    "    \n",
    "    model = XGBClassifier(**fixed_params, learning_rate=lr)\n",
    "    model.fit(\n",
    "        X_train_xgb_ft, y_train_xgb_ft,\n",
    "        eval_set=[(X_val_xgb_ft, y_val_xgb_ft)],\n",
    "        early_stopping_rounds=5,\n",
    "        verbose=False\n",
    "    )\n",
    "    \n",
    "    probs = model.predict_proba(X_val_xgb)[:, 1]\n",
    "    auc = roc_auc_score(y_val_xgb, probs)\n",
    "    print(f\"AUC = {auc:.4f}\")\n",
    "\n",
    "    if auc > best_auc:\n",
    "        best_auc = auc\n",
    "        best_lr = lr\n",
    "        best_xgb_clf = model\n",
    "\n",
    "print(\"\\nBest learning_rate:\", best_lr)\n",
    "print(\"Best validation AUC:\", best_auc)"
   ]
  },
  {
   "cell_type": "markdown",
   "metadata": {},
   "source": [
    "### Evaluate the Fine-Tuned XGBoost Model on the Test Set"
   ]
  },
  {
   "cell_type": "code",
   "execution_count": 36,
   "metadata": {},
   "outputs": [],
   "source": [
    "# Predict probabilities and labels\n",
    "y_pred_probs_xgb = best_xgb_clf.predict_proba(X_test)[:, 1]\n",
    "y_pred_xgb = (y_pred_probs_xgb > 0.5).astype(int)"
   ]
  },
  {
   "cell_type": "code",
   "execution_count": 37,
   "metadata": {},
   "outputs": [
    {
     "name": "stdout",
     "output_type": "stream",
     "text": [
      "[[26872 13049]\n",
      " [ 2719  6118]]\n",
      "              precision    recall  f1-score   support\n",
      "\n",
      "           0       0.91      0.67      0.77     39921\n",
      "           1       0.32      0.69      0.44      8837\n",
      "\n",
      "    accuracy                           0.68     48758\n",
      "   macro avg       0.61      0.68      0.61     48758\n",
      "weighted avg       0.80      0.68      0.71     48758\n",
      "\n",
      "ROC AUC: 0.7513879801711016\n"
     ]
    }
   ],
   "source": [
    "# Evaluate\n",
    "print(confusion_matrix(y_test, y_pred_xgb))\n",
    "print(classification_report(y_test, y_pred_xgb))\n",
    "print(\"ROC AUC:\", roc_auc_score(y_test, y_pred_probs_xgb))"
   ]
  },
  {
   "cell_type": "markdown",
   "metadata": {},
   "source": [
    "### Define the Random Forest Model"
   ]
  },
  {
   "cell_type": "code",
   "execution_count": 38,
   "metadata": {},
   "outputs": [
    {
     "data": {
      "text/plain": [
       "RandomForestClassifier(bootstrap=True, ccp_alpha=0.0,\n",
       "                       class_weight={0: 0.6106717016106811,\n",
       "                                     1: 2.7589333710567265},\n",
       "                       criterion='gini', max_depth=None, max_features='auto',\n",
       "                       max_leaf_nodes=None, max_samples=None,\n",
       "                       min_impurity_decrease=0.0, min_impurity_split=None,\n",
       "                       min_samples_leaf=1, min_samples_split=2,\n",
       "                       min_weight_fraction_leaf=0.0, n_estimators=200,\n",
       "                       n_jobs=-1, oob_score=False, random_state=42, verbose=0,\n",
       "                       warm_start=False)"
      ]
     },
     "execution_count": 38,
     "metadata": {},
     "output_type": "execute_result"
    }
   ],
   "source": [
    "# Initialize Random Forest\n",
    "rf_clf = RandomForestClassifier(\n",
    "    n_estimators=200,\n",
    "    max_depth=None,\n",
    "    random_state=42,\n",
    "    class_weight=class_weights,\n",
    "    n_jobs=-1\n",
    ")\n",
    "\n",
    "# Train the model\n",
    "rf_clf.fit(X_train, y_train)"
   ]
  },
  {
   "cell_type": "markdown",
   "metadata": {},
   "source": [
    "### Evaluate The Initial RF Model on the Test Set"
   ]
  },
  {
   "cell_type": "code",
   "execution_count": 39,
   "metadata": {},
   "outputs": [],
   "source": [
    "# Predict probabilities and labels using RF Classifier\n",
    "y_pred_probs_rf = rf_clf.predict_proba(X_test)[:, 1]\n",
    "y_pred_rf = (y_pred_probs_rf > 0.5).astype(int)"
   ]
  },
  {
   "cell_type": "code",
   "execution_count": 40,
   "metadata": {},
   "outputs": [
    {
     "name": "stdout",
     "output_type": "stream",
     "text": [
      "[[39513   408]\n",
      " [ 8291   546]]\n",
      "              precision    recall  f1-score   support\n",
      "\n",
      "           0       0.83      0.99      0.90     39921\n",
      "           1       0.57      0.06      0.11      8837\n",
      "\n",
      "    accuracy                           0.82     48758\n",
      "   macro avg       0.70      0.53      0.51     48758\n",
      "weighted avg       0.78      0.82      0.76     48758\n",
      "\n",
      "ROC AUC Score: 0.7385490454204936\n"
     ]
    }
   ],
   "source": [
    "# Evaluate\n",
    "print(confusion_matrix(y_test, y_pred_rf))\n",
    "print(classification_report(y_test, y_pred_rf))\n",
    "print(\"ROC AUC Score:\", roc_auc_score(y_test, y_pred_probs_rf))"
   ]
  },
  {
   "cell_type": "markdown",
   "metadata": {},
   "source": [
    "### Fine-Tune the RF Model"
   ]
  },
  {
   "cell_type": "code",
   "execution_count": 41,
   "metadata": {},
   "outputs": [
    {
     "name": "stdout",
     "output_type": "stream",
     "text": [
      "Trying depth = 3\n",
      "max_depth=3, AUC=0.7120\n",
      "Trying depth = 5\n",
      "max_depth=5, AUC=0.7275\n",
      "Trying depth = 10\n",
      "max_depth=10, AUC=0.7409\n",
      "Trying depth = 15\n",
      "max_depth=15, AUC=0.7402\n",
      "Trying depth = None\n",
      "max_depth=None, AUC=0.7340\n",
      "\n",
      "Best depth: 10\n",
      "Best validation AUC: 0.7409499160981086\n"
     ]
    }
   ],
   "source": [
    "best_auc = 0\n",
    "best_depth = None\n",
    "best_rf_clf = None\n",
    "depths = [3, 5, 10, 15, None]\n",
    "\n",
    "# split the full training set to a training set and validation set for fine tuning RF\n",
    "X_train_rf, X_val_rf, y_train_rf, y_val_rf = train_test_split(\n",
    "    X_train, y_train, test_size=0.1, stratify=y_train, random_state=42\n",
    ")\n",
    "\n",
    "for depth in depths:\n",
    "    print(f\"Trying depth = {depth}\")\n",
    "    \n",
    "    model = RandomForestClassifier(max_depth=depth, class_weight=class_weights, n_estimators=200, random_state=42)\n",
    "    model.fit(X_train_rf, y_train_rf)\n",
    "    probs = model.predict_proba(X_val_rf)[:, 1]\n",
    "    auc = roc_auc_score(y_val_rf, probs)\n",
    "    print(f\"max_depth={depth}, AUC={auc:.4f}\")\n",
    "    \n",
    "    if auc > best_auc:\n",
    "        best_auc = auc\n",
    "        best_depth = depth\n",
    "        best_rf_clf = model\n",
    "        \n",
    "print(\"\\nBest depth:\", best_depth)\n",
    "print(\"Best validation AUC:\", best_auc)"
   ]
  },
  {
   "cell_type": "markdown",
   "metadata": {},
   "source": [
    "### Evaluate The Fine-Tuned RF Model on the Test Set"
   ]
  },
  {
   "cell_type": "code",
   "execution_count": 42,
   "metadata": {},
   "outputs": [],
   "source": [
    "# Predict probabilities and labels using RF Classifier\n",
    "y_pred_probs_rf = best_rf_clf.predict_proba(X_test)[:, 1]\n",
    "y_pred_rf = (y_pred_probs_rf > 0.5).astype(int)"
   ]
  },
  {
   "cell_type": "code",
   "execution_count": 43,
   "metadata": {},
   "outputs": [
    {
     "name": "stdout",
     "output_type": "stream",
     "text": [
      "[[27969 11952]\n",
      " [ 3024  5813]]\n",
      "              precision    recall  f1-score   support\n",
      "\n",
      "           0       0.90      0.70      0.79     39921\n",
      "           1       0.33      0.66      0.44      8837\n",
      "\n",
      "    accuracy                           0.69     48758\n",
      "   macro avg       0.61      0.68      0.61     48758\n",
      "weighted avg       0.80      0.69      0.73     48758\n",
      "\n",
      "ROC AUC Score: 0.7463444359416456\n"
     ]
    }
   ],
   "source": [
    "# Evaluate\n",
    "print(confusion_matrix(y_test, y_pred_rf))\n",
    "print(classification_report(y_test, y_pred_rf))\n",
    "print(\"ROC AUC Score:\", roc_auc_score(y_test, y_pred_probs_rf))"
   ]
  },
  {
   "cell_type": "markdown",
   "metadata": {},
   "source": [
    "### Define The Neural Network Model"
   ]
  },
  {
   "cell_type": "code",
   "execution_count": 44,
   "metadata": {},
   "outputs": [],
   "source": [
    "# define NN Model architecture\n",
    "nn = Sequential()\n",
    "\n",
    "# Input layer + Hidden 1\n",
    "nn.add(Dense(128, input_shape=(X_train_scaled.shape[1],)))\n",
    "nn.add(LeakyReLU(alpha=0.01))\n",
    "nn.add(BatchNormalization())  # Normalize activation distribution\n",
    "nn.add(Dropout(0.3))\n",
    "\n",
    "# Hidden 2\n",
    "nn.add(Dense(64))\n",
    "nn.add(LeakyReLU(alpha=0.01))\n",
    "nn.add(BatchNormalization())\n",
    "nn.add(Dropout(0.3))\n",
    "\n",
    "# Output\n",
    "nn.add(Dense(1, activation='sigmoid'))"
   ]
  },
  {
   "cell_type": "code",
   "execution_count": 45,
   "metadata": {},
   "outputs": [
    {
     "name": "stdout",
     "output_type": "stream",
     "text": [
      "Model: \"sequential\"\n",
      "_________________________________________________________________\n",
      " Layer (type)                Output Shape              Param #   \n",
      "=================================================================\n",
      " dense (Dense)               (None, 128)               3584      \n",
      "                                                                 \n",
      " leaky_re_lu (LeakyReLU)     (None, 128)               0         \n",
      "                                                                 \n",
      " batch_normalization (BatchN  (None, 128)              512       \n",
      " ormalization)                                                   \n",
      "                                                                 \n",
      " dropout (Dropout)           (None, 128)               0         \n",
      "                                                                 \n",
      " dense_1 (Dense)             (None, 64)                8256      \n",
      "                                                                 \n",
      " leaky_re_lu_1 (LeakyReLU)   (None, 64)                0         \n",
      "                                                                 \n",
      " batch_normalization_1 (Batc  (None, 64)               256       \n",
      " hNormalization)                                                 \n",
      "                                                                 \n",
      " dropout_1 (Dropout)         (None, 64)                0         \n",
      "                                                                 \n",
      " dense_2 (Dense)             (None, 1)                 65        \n",
      "                                                                 \n",
      "=================================================================\n",
      "Total params: 12,673\n",
      "Trainable params: 12,289\n",
      "Non-trainable params: 384\n",
      "_________________________________________________________________\n"
     ]
    }
   ],
   "source": [
    "# compile the model\n",
    "nn.compile(\n",
    "    optimizer='adam',\n",
    "    loss=tf.keras.losses.BinaryCrossentropy(label_smoothing=0.1),\n",
    "    metrics=['accuracy', tf.keras.metrics.AUC()]\n",
    ")\n",
    "\n",
    "nn.summary()"
   ]
  },
  {
   "cell_type": "code",
   "execution_count": 46,
   "metadata": {},
   "outputs": [
    {
     "name": "stdout",
     "output_type": "stream",
     "text": [
      "Epoch 1/50\n",
      "5486/5486 [==============================] - 21s 4ms/step - loss: 0.6382 - accuracy: 0.6475 - auc: 0.7147 - val_loss: 0.6211 - val_accuracy: 0.6693 - val_auc: 0.7398\n",
      "Epoch 2/50\n",
      "5486/5486 [==============================] - 19s 3ms/step - loss: 0.6224 - accuracy: 0.6642 - auc: 0.7346 - val_loss: 0.6177 - val_accuracy: 0.6813 - val_auc: 0.7425\n",
      "Epoch 3/50\n",
      "5486/5486 [==============================] - 18s 3ms/step - loss: 0.6207 - accuracy: 0.6668 - auc: 0.7373 - val_loss: 0.6113 - val_accuracy: 0.6834 - val_auc: 0.7436\n",
      "Epoch 4/50\n",
      "5486/5486 [==============================] - 18s 3ms/step - loss: 0.6191 - accuracy: 0.6672 - auc: 0.7394 - val_loss: 0.6184 - val_accuracy: 0.6739 - val_auc: 0.7432\n",
      "Epoch 5/50\n",
      "5486/5486 [==============================] - 19s 3ms/step - loss: 0.6191 - accuracy: 0.6676 - auc: 0.7395 - val_loss: 0.6283 - val_accuracy: 0.6542 - val_auc: 0.7437\n",
      "Epoch 6/50\n",
      "5486/5486 [==============================] - 19s 3ms/step - loss: 0.6184 - accuracy: 0.6649 - auc: 0.7405 - val_loss: 0.6055 - val_accuracy: 0.6780 - val_auc: 0.7438\n",
      "Epoch 7/50\n",
      "5486/5486 [==============================] - 19s 3ms/step - loss: 0.6179 - accuracy: 0.6664 - auc: 0.7411 - val_loss: 0.6080 - val_accuracy: 0.6899 - val_auc: 0.7434\n",
      "Epoch 8/50\n",
      "5486/5486 [==============================] - 19s 3ms/step - loss: 0.6182 - accuracy: 0.6672 - auc: 0.7407 - val_loss: 0.6133 - val_accuracy: 0.6719 - val_auc: 0.7433\n",
      "Epoch 9/50\n",
      "5486/5486 [==============================] - 19s 3ms/step - loss: 0.6181 - accuracy: 0.6666 - auc: 0.7408 - val_loss: 0.6117 - val_accuracy: 0.6723 - val_auc: 0.7447\n",
      "Epoch 10/50\n",
      "5486/5486 [==============================] - 19s 3ms/step - loss: 0.6175 - accuracy: 0.6677 - auc: 0.7418 - val_loss: 0.6231 - val_accuracy: 0.6634 - val_auc: 0.7449\n",
      "Epoch 11/50\n",
      "5486/5486 [==============================] - 19s 3ms/step - loss: 0.6176 - accuracy: 0.6665 - auc: 0.7416 - val_loss: 0.6237 - val_accuracy: 0.6540 - val_auc: 0.7443\n"
     ]
    }
   ],
   "source": [
    "# define early stopping\n",
    "early_stop = EarlyStopping(\n",
    "    monitor='val_auc',\n",
    "    patience=5,\n",
    "    restore_best_weights=True\n",
    ")\n",
    "\n",
    "# train the model\n",
    "history = nn.fit(\n",
    "    X_train_scaled, y_train,\n",
    "    validation_split=0.1,\n",
    "    epochs=50,\n",
    "    batch_size=32,\n",
    "    class_weight=class_weights,\n",
    "    callbacks=[early_stop],\n",
    "    verbose=1\n",
    ")"
   ]
  },
  {
   "cell_type": "code",
   "execution_count": 47,
   "metadata": {},
   "outputs": [
    {
     "data": {
      "image/png": "[encoded data removed]",
      "text/plain": [
       "<Figure size 432x288 with 1 Axes>"
      ]
     },
     "metadata": {
      "needs_background": "light"
     },
     "output_type": "display_data"
    }
   ],
   "source": [
    "# Plot the training history of the neural network model\n",
    "plt.plot(history.history['loss'], label='Train Loss')\n",
    "plt.plot(history.history['val_loss'], label='Val Loss')\n",
    "plt.plot(history.history['auc'], label='Train AUC')\n",
    "plt.plot(history.history['val_auc'], label='Val AUC')\n",
    "plt.title('Training History')\n",
    "plt.xlabel('Epoch')\n",
    "plt.ylabel('Loss / AUC')\n",
    "plt.legend()\n",
    "plt.grid(True)\n",
    "plt.show()"
   ]
  },
  {
   "cell_type": "markdown",
   "metadata": {},
   "source": [
    "### Evaluate The NN Model on the Test Set"
   ]
  },
  {
   "cell_type": "code",
   "execution_count": 48,
   "metadata": {},
   "outputs": [
    {
     "name": "stdout",
     "output_type": "stream",
     "text": [
      "1524/1524 [==============================] - 2s 1ms/step\n"
     ]
    }
   ],
   "source": [
    "# Predict probabilities and labels using NN\n",
    "y_pred_probs_nn = nn.predict(X_test_scaled).flatten()\n",
    "y_pred_nn = (y_pred_probs_nn > 0.5).astype(int)"
   ]
  },
  {
   "cell_type": "code",
   "execution_count": 49,
   "metadata": {},
   "outputs": [
    {
     "name": "stdout",
     "output_type": "stream",
     "text": [
      "[[27101 12820]\n",
      " [ 2751  6086]]\n",
      "              precision    recall  f1-score   support\n",
      "\n",
      "           0       0.91      0.68      0.78     39921\n",
      "           1       0.32      0.69      0.44      8837\n",
      "\n",
      "    accuracy                           0.68     48758\n",
      "   macro avg       0.61      0.68      0.61     48758\n",
      "weighted avg       0.80      0.68      0.72     48758\n",
      "\n",
      "ROC AUC Score: 0.7518505308593276\n"
     ]
    }
   ],
   "source": [
    "# Evaluate\n",
    "print(confusion_matrix(y_test, y_pred_nn))\n",
    "print(classification_report(y_test, y_pred_nn))\n",
    "print(\"ROC AUC Score:\", roc_auc_score(y_test, y_pred_probs_nn))"
   ]
  },
  {
   "cell_type": "markdown",
   "metadata": {},
   "source": [
    "### Evaluate the Ensembled Model"
   ]
  },
  {
   "cell_type": "code",
   "execution_count": 50,
   "metadata": {},
   "outputs": [
    {
     "name": "stdout",
     "output_type": "stream",
     "text": [
      "Best Weights (NN, RF, XGB): (0.6000000000000001, 0.0, 0.3999999999999999)\n",
      "Best ROC AUC: 0.7527942443029747\n"
     ]
    }
   ],
   "source": [
    "from itertools import product\n",
    "\n",
    "# We have predicted probabilities from 3 models above:\n",
    "# y_pred_probs_nn  : from neural network\n",
    "# y_pred_probs_rf  : from random forest\n",
    "# y_pred_probs_xgb : from xgboost\n",
    "# y_test    : true labels\n",
    "\n",
    "# Normalize weights so they sum to 1\n",
    "weight_options = np.arange(0.0, 1.1, 0.1)\n",
    "\n",
    "best_auc = 0\n",
    "best_weights = (0, 0, 0)\n",
    "\n",
    "for w1, w2 in product(weight_options, repeat=2):\n",
    "    w3 = 1.0 - w1 - w2\n",
    "    if w3 < 0 or w3 > 1:\n",
    "        continue  # invalid weight combination\n",
    "\n",
    "    # Weighted average of probabilities\n",
    "    probs_ensemble = w1 * y_pred_probs_nn + w2 * y_pred_probs_rf + w3 * y_pred_probs_xgb\n",
    "\n",
    "    # Evaluate\n",
    "    auc = roc_auc_score(y_test, probs_ensemble)\n",
    "\n",
    "    if auc > best_auc:\n",
    "        best_auc = auc\n",
    "        best_weights = (w1, w2, w3)\n",
    "\n",
    "print(\"Best Weights (NN, RF, XGB):\", best_weights)\n",
    "print(\"Best ROC AUC:\", best_auc)"
   ]
  },
  {
   "cell_type": "code",
   "execution_count": 51,
   "metadata": {},
   "outputs": [],
   "source": [
    "# Predict labels\n",
    "y_pred_ensemble = (probs_ensemble > 0.5).astype(int)"
   ]
  },
  {
   "cell_type": "code",
   "execution_count": 52,
   "metadata": {},
   "outputs": [
    {
     "name": "stdout",
     "output_type": "stream",
     "text": [
      "[[27101 12820]\n",
      " [ 2751  6086]]\n",
      "              precision    recall  f1-score   support\n",
      "\n",
      "           0       0.91      0.68      0.78     39921\n",
      "           1       0.32      0.69      0.44      8837\n",
      "\n",
      "    accuracy                           0.68     48758\n",
      "   macro avg       0.61      0.68      0.61     48758\n",
      "weighted avg       0.80      0.68      0.72     48758\n",
      "\n"
     ]
    }
   ],
   "source": [
    "# Evaluate\n",
    "print(confusion_matrix(y_test, y_pred_ensemble))\n",
    "print(classification_report(y_test, y_pred_ensemble))"
   ]
  },
  {
   "cell_type": "markdown",
   "metadata": {},
   "source": [
    "### Extract The Predicted Probability for Submission"
   ]
  },
  {
   "cell_type": "code",
   "execution_count": 53,
   "metadata": {},
   "outputs": [
    {
     "data": {
      "text/plain": [
       "(104480, 27)"
      ]
     },
     "execution_count": 53,
     "metadata": {},
     "output_type": "execute_result"
    }
   ],
   "source": [
    "test_df_scaled = scalar.transform(test_df)\n",
    "test_df_scaled.shape"
   ]
  },
  {
   "cell_type": "code",
   "execution_count": 54,
   "metadata": {},
   "outputs": [
    {
     "name": "stdout",
     "output_type": "stream",
     "text": [
      "RandomForestClassifier(bootstrap=True, ccp_alpha=0.0,\n",
      "                       class_weight={0: 0.6106717016106811,\n",
      "                                     1: 2.7589333710567265},\n",
      "                       criterion='gini', max_depth=10, max_features='auto',\n",
      "                       max_leaf_nodes=None, max_samples=None,\n",
      "                       min_impurity_decrease=0.0, min_impurity_split=None,\n",
      "                       min_samples_leaf=1, min_samples_split=2,\n",
      "                       min_weight_fraction_leaf=0.0, n_estimators=200,\n",
      "                       n_jobs=None, oob_score=False, random_state=42, verbose=0,\n",
      "                       warm_start=False)\n"
     ]
    }
   ],
   "source": [
    "print(best_rf_clf)"
   ]
  },
  {
   "cell_type": "code",
   "execution_count": 55,
   "metadata": {},
   "outputs": [
    {
     "name": "stdout",
     "output_type": "stream",
     "text": [
      "3265/3265 [==============================] - 4s 1ms/step\n"
     ]
    }
   ],
   "source": [
    "predicted_probs_nn = nn.predict(test_df_scaled).flatten()\n",
    "predicted_probs_rf = best_rf_clf.predict_proba(test_df)[:, 1]\n",
    "predicted_probs_xgb = best_xgb_clf.predict_proba(test_df)[:, 1]"
   ]
  },
  {
   "cell_type": "code",
   "execution_count": 56,
   "metadata": {},
   "outputs": [],
   "source": [
    "w1, w2, w3 = best_weights\n",
    "predicted_probability = predicted_probs_nn * w1 + predicted_probs_rf * w2 + predicted_probs_xgb * w3\n",
    "prediction_df = pd.DataFrame({'CustomerID': test_customer_IDs.values[:, 0],\n",
    "                             'predicted_probability': predicted_probability})"
   ]
  },
  {
   "cell_type": "code",
   "execution_count": 57,
   "metadata": {},
   "outputs": [
    {
     "data": {
      "text/html": [
       "<div>\n",
       "<style scoped>\n",
       "    .dataframe tbody tr th:only-of-type {\n",
       "        vertical-align: middle;\n",
       "    }\n",
       "\n",
       "    .dataframe tbody tr th {\n",
       "        vertical-align: top;\n",
       "    }\n",
       "\n",
       "    .dataframe thead th {\n",
       "        text-align: right;\n",
       "    }\n",
       "</style>\n",
       "<table border=\"1\" class=\"dataframe\">\n",
       "  <thead>\n",
       "    <tr style=\"text-align: right;\">\n",
       "      <th></th>\n",
       "      <th>CustomerID</th>\n",
       "      <th>predicted_probability</th>\n",
       "    </tr>\n",
       "  </thead>\n",
       "  <tbody>\n",
       "    <tr>\n",
       "      <th>0</th>\n",
       "      <td>O1W6BHP6RM</td>\n",
       "      <td>0.413711</td>\n",
       "    </tr>\n",
       "    <tr>\n",
       "      <th>1</th>\n",
       "      <td>LFR4X92X8H</td>\n",
       "      <td>0.194652</td>\n",
       "    </tr>\n",
       "    <tr>\n",
       "      <th>2</th>\n",
       "      <td>QM5GBIYODA</td>\n",
       "      <td>0.742369</td>\n",
       "    </tr>\n",
       "    <tr>\n",
       "      <th>3</th>\n",
       "      <td>D9RXTK2K9F</td>\n",
       "      <td>0.204224</td>\n",
       "    </tr>\n",
       "    <tr>\n",
       "      <th>4</th>\n",
       "      <td>ENTCCHR1LR</td>\n",
       "      <td>0.430193</td>\n",
       "    </tr>\n",
       "    <tr>\n",
       "      <th>...</th>\n",
       "      <td>...</td>\n",
       "      <td>...</td>\n",
       "    </tr>\n",
       "    <tr>\n",
       "      <th>104475</th>\n",
       "      <td>UTKREC613O</td>\n",
       "      <td>0.323154</td>\n",
       "    </tr>\n",
       "    <tr>\n",
       "      <th>104476</th>\n",
       "      <td>MDB4E477PS</td>\n",
       "      <td>0.366627</td>\n",
       "    </tr>\n",
       "    <tr>\n",
       "      <th>104477</th>\n",
       "      <td>IPDIA02ZE1</td>\n",
       "      <td>0.366911</td>\n",
       "    </tr>\n",
       "    <tr>\n",
       "      <th>104478</th>\n",
       "      <td>ITLFTPRJGV</td>\n",
       "      <td>0.585247</td>\n",
       "    </tr>\n",
       "    <tr>\n",
       "      <th>104479</th>\n",
       "      <td>Y204GZY6NE</td>\n",
       "      <td>0.107011</td>\n",
       "    </tr>\n",
       "  </tbody>\n",
       "</table>\n",
       "<p>104480 rows × 2 columns</p>\n",
       "</div>"
      ],
      "text/plain": [
       "        CustomerID  predicted_probability\n",
       "0       O1W6BHP6RM               0.413711\n",
       "1       LFR4X92X8H               0.194652\n",
       "2       QM5GBIYODA               0.742369\n",
       "3       D9RXTK2K9F               0.204224\n",
       "4       ENTCCHR1LR               0.430193\n",
       "...            ...                    ...\n",
       "104475  UTKREC613O               0.323154\n",
       "104476  MDB4E477PS               0.366627\n",
       "104477  IPDIA02ZE1               0.366911\n",
       "104478  ITLFTPRJGV               0.585247\n",
       "104479  Y204GZY6NE               0.107011\n",
       "\n",
       "[104480 rows x 2 columns]"
      ]
     },
     "execution_count": 57,
     "metadata": {},
     "output_type": "execute_result"
    }
   ],
   "source": [
    "prediction_df"
   ]
  },
  {
   "cell_type": "markdown",
   "metadata": {},
   "source": [
    "## Final Tests - **IMPORTANT** - the cells below must be run prior to submission\n",
    "\n",
    "Below are some tests to ensure your submission is in the correct format for autograding. The autograding process accepts a csv `prediction_submission.csv` which we will generate from our `prediction_df` below. Please run the tests below an ensure no assertion errors are thrown."
   ]
  },
  {
   "cell_type": "code",
   "execution_count": 58,
   "metadata": {},
   "outputs": [],
   "source": [
    "# FINAL TEST CELLS - please make sure all of your code is above these test cells\n",
    "\n",
    "# Writing to csv for autograding purposes\n",
    "prediction_df.to_csv(\"prediction_submission.csv\", index=False)\n",
    "submission = pd.read_csv(\"prediction_submission.csv\")\n",
    "\n",
    "assert isinstance(submission, pd.DataFrame), 'You should have a dataframe named prediction_df.'"
   ]
  },
  {
   "cell_type": "code",
   "execution_count": 59,
   "metadata": {},
   "outputs": [],
   "source": [
    "# FINAL TEST CELLS - please make sure all of your code is above these test cells\n",
    "\n",
    "assert submission.columns[0] == 'CustomerID', 'The first column name should be CustomerID.'\n",
    "assert submission.columns[1] == 'predicted_probability', 'The second column name should be predicted_probability.'"
   ]
  },
  {
   "cell_type": "code",
   "execution_count": 60,
   "metadata": {},
   "outputs": [],
   "source": [
    "# FINAL TEST CELLS - please make sure all of your code is above these test cells\n",
    "\n",
    "assert submission.shape[0] == 104480, 'The dataframe prediction_df should have 104480 rows.'"
   ]
  },
  {
   "cell_type": "code",
   "execution_count": 61,
   "metadata": {},
   "outputs": [],
   "source": [
    "# FINAL TEST CELLS - please make sure all of your code is above these test cells\n",
    "\n",
    "assert submission.shape[1] == 2, 'The dataframe prediction_df should have 2 columns.'"
   ]
  },
  {
   "cell_type": "code",
   "execution_count": 62,
   "metadata": {},
   "outputs": [],
   "source": [
    "# FINAL TEST CELLS - please make sure all of your code is above these test cells\n",
    "\n",
    "## This cell calculates the auc score and is hidden. Submit Assignment to see AUC score."
   ]
  },
  {
   "cell_type": "markdown",
   "metadata": {},
   "source": [
    "## SUBMIT YOUR WORK!\n",
    "\n",
    "Once we are happy with our `prediction_df` and `prediction_submission.csv` we can now submit for autograding! Submit by using the blue **Submit Assignment** at the top of your notebook. Don't worry if your initial submission isn't perfect as you have multiple submission attempts and will obtain some feedback after each submission!"
   ]
  }
 ],
 "metadata": {
  "kernelspec": {
   "display_name": "Python 3",
   "language": "python",
   "name": "python3"
  },
  "language_info": {
   "codemirror_mode": {
    "name": "ipython",
    "version": 3
   },
   "file_extension": ".py",
   "mimetype": "text/x-python",
   "name": "python",
   "nbconvert_exporter": "python",
   "pygments_lexer": "ipython3",
   "version": "3.7.6"
  }
 },
 "nbformat": 4,
 "nbformat_minor": 4
}
